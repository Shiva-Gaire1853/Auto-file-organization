{
  "nbformat": 4,
  "nbformat_minor": 0,
  "metadata": {
    "colab": {
      "name": "20SOECE11105_SHIV_PRASAD_GAIRE.ipynb",
      "provenance": []
    },
    "kernelspec": {
      "name": "python3",
      "display_name": "Python 3"
    },
    "language_info": {
      "name": "python"
    }
  },
  "cells": [
    {
      "cell_type": "code",
      "metadata": {
        "id": "s6MfJ4HHpWhI"
      },
      "source": [
        "import os\n",
        "import shutil\n",
        "folderpath='G:\\\\New folder'\n",
        "os.chdir(folderpath)\n",
        "os.getcwd()\n",
        "list_extension=[]\n",
        "for fl in os.listdir():\n",
        "    extension=fl.split('.')[-1]\n",
        "    list_extension.append(extension)\n",
        "list_extension=set(list_extension)\n",
        "print(list_extension)\n",
        "path=os.path.join(folderpath,'file manager')\n",
        "try:\n",
        "    shutil.rmtree(path)\n",
        "    os.mkdir(path)\n",
        "except:\n",
        "    os.mkdir(path)\n",
        "for ex in list_extension:\n",
        "    os.mkdir(path + '\\\\' + ex)\n",
        "    for fl in os.listdir():\n",
        "        if ex in fl:\n",
        "            shutil.move(fl,path + \"//\" +ex)\n"
      ],
      "execution_count": null,
      "outputs": []
    }
  ]
}